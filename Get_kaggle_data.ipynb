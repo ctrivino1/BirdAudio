{
  "nbformat": 4,
  "nbformat_minor": 0,
  "metadata": {
    "colab": {
      "private_outputs": true,
      "provenance": [],
      "authorship_tag": "ABX9TyOJ8r8E46cK2rSdpkORrE9F",
      "include_colab_link": true
    },
    "kernelspec": {
      "name": "python3",
      "display_name": "Python 3"
    },
    "language_info": {
      "name": "python"
    }
  },
  "cells": [
    {
      "cell_type": "markdown",
      "metadata": {
        "id": "view-in-github",
        "colab_type": "text"
      },
      "source": [
        "<a href=\"https://colab.research.google.com/github/ctrivino1/BirdAudio/blob/main/Get_kaggle_data.ipynb\" target=\"_parent\"><img src=\"https://colab.research.google.com/assets/colab-badge.svg\" alt=\"Open In Colab\"/></a>"
      ]
    },
    {
      "cell_type": "code",
      "execution_count": null,
      "metadata": {
        "id": "MEw9sX2OlZQn"
      },
      "outputs": [],
      "source": [
        "!pip install kaggle"
      ]
    },
    {
      "cell_type": "code",
      "source": [
        "from google.colab import files\n",
        "files.upload()"
      ],
      "metadata": {
        "id": "gK1C6MIplxK0"
      },
      "execution_count": null,
      "outputs": []
    },
    {
      "cell_type": "code",
      "source": [
        "!mkdir -p ~/.kaggle\n",
        "!mv kaggle.json ~/.kaggle/\n"
      ],
      "metadata": {
        "id": "VeOrS-49mAeh"
      },
      "execution_count": null,
      "outputs": []
    },
    {
      "cell_type": "code",
      "source": [
        "!kaggle competitions download -c birdclef-2023\n"
      ],
      "metadata": {
        "id": "UoFSH2hXmcEf"
      },
      "execution_count": null,
      "outputs": []
    },
    {
      "cell_type": "code",
      "source": [
        "!unzip -q birdclef-2023.zip -d birdclef-2023"
      ],
      "metadata": {
        "id": "B_reScUZnp4N"
      },
      "execution_count": null,
      "outputs": []
    },
    {
      "cell_type": "code",
      "source": [
        "#!git clone https://github.com/ctrivino1/BirdAudio.git"
      ],
      "metadata": {
        "id": "kY1xWvP0nvl9"
      },
      "execution_count": null,
      "outputs": []
    },
    {
      "cell_type": "code",
      "source": [
        "#!mkdir -p ~/BirdAudio/\n"
      ],
      "metadata": {
        "id": "XZ5QAPCSqmvO"
      },
      "execution_count": null,
      "outputs": []
    },
    {
      "cell_type": "code",
      "source": [
        "#!cp -r birdclef-2023/* ~/BirdAudio/"
      ],
      "metadata": {
        "id": "iRV7jPB8nv87"
      },
      "execution_count": null,
      "outputs": []
    },
    {
      "cell_type": "code",
      "source": [
        "!pwd"
      ],
      "metadata": {
        "id": "XvgAM8S7rG1M"
      },
      "execution_count": null,
      "outputs": []
    },
    {
      "cell_type": "code",
      "source": [
        "!git config --global user.email \"trivinochris124@gmail.com\"\n",
        "! git config --global user.name 'ctrivino1'"
      ],
      "metadata": {
        "id": "KMbkyGjMq6DI"
      },
      "execution_count": null,
      "outputs": []
    },
    {
      "cell_type": "code",
      "source": [
        "#!cd /content/BirdAudio && git add . && git commit -m \"Added competition data\" && git push\n"
      ],
      "metadata": {
        "id": "fpZZN1akn4PL"
      },
      "execution_count": null,
      "outputs": []
    },
    {
      "cell_type": "code",
      "source": [
        "!cd /content/BirdAudio && git remote -v\n"
      ],
      "metadata": {
        "id": "LcUuKOeyi3N1"
      },
      "execution_count": null,
      "outputs": []
    },
    {
      "cell_type": "code",
      "source": [
        "!cd /content/BirdAudio && git branch"
      ],
      "metadata": {
        "id": "Q0WxuW0ijEXV"
      },
      "execution_count": null,
      "outputs": []
    },
    {
      "cell_type": "code",
      "source": [
        "!cd /content/BirdAudio && git checkout main"
      ],
      "metadata": {
        "id": "nG1vHZhhjMua"
      },
      "execution_count": null,
      "outputs": []
    }
  ]
}